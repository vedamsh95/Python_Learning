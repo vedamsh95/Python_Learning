{
 "cells": [
  {
   "cell_type": "code",
   "execution_count": null,
   "id": "679a67ca-d7f8-4cd1-957a-9e4741a2f775",
   "metadata": {
    "tags": [],
    "is_executing": true
   },
   "outputs": [],
   "source": [
    "Items = {}"
   ]
  },
  {
   "cell_type": "code",
   "execution_count": null,
   "id": "4f83faa0-c699-494e-a57d-2076acc5ce78",
   "metadata": {
    "tags": [],
    "is_executing": true
   },
   "outputs": [],
   "source": [
    "Product1= \"Laptop\"\n",
    "Product2= \"Charger\"\n",
    "Product3= \"EarPhone\"\n",
    "Product4= \"Mouse\""
   ]
  },
  {
   "cell_type": "code",
   "execution_count": 4,
   "id": "ea18a8ef-cf59-46de-8e45-fbdce74afeef",
   "metadata": {
    "tags": []
   },
   "outputs": [],
   "source": [
    "Items[\"Item1\"] = Product1\n",
    "Items[\"Item2\"] = Product2\n",
    "Items[\"Item3\"] = Product3\n",
    "Items[\"Item4\"] = Product4"
   ]
  },
  {
   "cell_type": "code",
   "execution_count": 5,
   "id": "35195983-c8c0-4825-859a-9cc913a0c4f7",
   "metadata": {
    "tags": []
   },
   "outputs": [
    {
     "data": {
      "text/plain": [
       "{'Item1': 'Laptop', 'Item2': 'Charger', 'Item3': 'EarPhone', 'Item4': 'Mouse'}"
      ]
     },
     "execution_count": 5,
     "metadata": {},
     "output_type": "execute_result"
    }
   ],
   "source": [
    "Items"
   ]
  },
  {
   "cell_type": "code",
   "execution_count": null,
   "id": "34946f03-0192-4d89-9e62-e6c83a4a35d8",
   "metadata": {
    "tags": [],
    "is_executing": true
   },
   "outputs": [],
   "source": [
    "Items.keys()"
   ]
  },
  {
   "cell_type": "code",
   "execution_count": null,
   "id": "d9605a4d-495f-4db3-a8ff-417bb1073c8a",
   "metadata": {
    "tags": [],
    "is_executing": true
   },
   "outputs": [],
   "source": [
    "Items.values()"
   ]
  },
  {
   "cell_type": "code",
   "execution_count": 9,
   "id": "ee8df149-acfc-4d6b-9249-27921807a8e5",
   "metadata": {
    "tags": []
   },
   "outputs": [],
   "source": [
    "del(Items[\"Item4\"])"
   ]
  },
  {
   "cell_type": "code",
   "execution_count": 10,
   "id": "40d31323-f0c5-4187-8dd8-dfd00e383220",
   "metadata": {
    "tags": []
   },
   "outputs": [
    {
     "data": {
      "text/plain": [
       "{'Item1': 'Laptop', 'Item2': 'Charger', 'Item3': 'EarPhone'}"
      ]
     },
     "execution_count": 10,
     "metadata": {},
     "output_type": "execute_result"
    }
   ],
   "source": [
    "Items"
   ]
  },
  {
   "cell_type": "code",
   "execution_count": 12,
   "id": "8510080b-d24a-41b0-9fa4-e7f9849ff7fa",
   "metadata": {
    "tags": []
   },
   "outputs": [
    {
     "data": {
      "text/plain": [
       "True"
      ]
     },
     "execution_count": 12,
     "metadata": {},
     "output_type": "execute_result"
    }
   ],
   "source": [
    "\"Laptop\" in Items.values()"
   ]
  },
  {
   "cell_type": "code",
   "execution_count": 13,
   "id": "977bb2e2-32d9-4dae-9a8f-1e229b3093d9",
   "metadata": {
    "tags": []
   },
   "outputs": [
    {
     "data": {
      "text/plain": [
       "True"
      ]
     },
     "execution_count": 13,
     "metadata": {},
     "output_type": "execute_result"
    }
   ],
   "source": [
    "\"Item2\" in Items"
   ]
  },
  {
   "cell_type": "code",
   "execution_count": 15,
   "id": "f5b9b517-7457-42bb-9e18-48d2d517a8a9",
   "metadata": {
    "tags": []
   },
   "outputs": [
    {
     "data": {
      "text/plain": [
       "False"
      ]
     },
     "execution_count": 15,
     "metadata": {},
     "output_type": "execute_result"
    }
   ],
   "source": [
    "\"Pen\" in Items.values()"
   ]
  },
  {
   "cell_type": "code",
   "execution_count": null,
   "id": "26c39f6b-4d42-417c-9674-583eabc6bf7f",
   "metadata": {},
   "outputs": [],
   "source": []
  }
 ],
 "metadata": {
  "kernelspec": {
   "display_name": "Python 3 (ipykernel)",
   "language": "python",
   "name": "python3"
  },
  "language_info": {
   "codemirror_mode": {
    "name": "ipython",
    "version": 3
   },
   "file_extension": ".py",
   "mimetype": "text/x-python",
   "name": "python",
   "nbconvert_exporter": "python",
   "pygments_lexer": "ipython3",
   "version": "3.10.9"
  }
 },
 "nbformat": 4,
 "nbformat_minor": 5
}
