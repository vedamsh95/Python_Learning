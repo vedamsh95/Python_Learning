{
 "cells": [
  {
   "cell_type": "markdown",
   "id": "3ce85751-9190-4b52-a2ad-6313079726fa",
   "metadata": {},
   "source": [
    "Examples of tuple"
   ]
  },
  {
   "cell_type": "code",
   "execution_count": 1,
   "id": "c605a320-6d64-4512-b3b2-84ef7d14e81c",
   "metadata": {},
   "outputs": [],
   "source": [
    "tuple1 = (\"test\" ,2 ,3 ,4)"
   ]
  },
  {
   "cell_type": "code",
   "execution_count": 5,
   "id": "58908168-6aac-482f-8ed8-4eea65c9614d",
   "metadata": {},
   "outputs": [
    {
     "name": "stdout",
     "output_type": "stream",
     "text": [
      "4\n"
     ]
    }
   ],
   "source": [
    "print(tuple1[3])"
   ]
  },
  {
   "cell_type": "code",
   "execution_count": 6,
   "id": "92ce5e9d-c4fc-4e4e-9308-c95fbaf2393b",
   "metadata": {},
   "outputs": [],
   "source": [
    "tuple2 = tuple1"
   ]
  },
  {
   "cell_type": "code",
   "execution_count": 7,
   "id": "cec120fb-7347-45ba-90c9-e45acea0c79b",
   "metadata": {},
   "outputs": [
    {
     "name": "stdout",
     "output_type": "stream",
     "text": [
      "('test', 2, 3, 4)\n"
     ]
    }
   ],
   "source": [
    "print(tuple2)"
   ]
  },
  {
   "cell_type": "markdown",
   "id": "99747c29-86bd-403b-86d1-3371b1c86f65",
   "metadata": {},
   "source": [
    "Examples of lists"
   ]
  },
  {
   "cell_type": "code",
   "execution_count": null,
   "id": "d1c104d4-184f-4dad-b9d6-9cd5664479c3",
   "metadata": {},
   "outputs": [],
   "source": [
    "list1 = [\"list1\",1,3,4]"
   ]
  },
  {
   "cell_type": "code",
   "execution_count": 9,
   "id": "40fcc095-5997-4408-bb4e-3e25ac8b97a8",
   "metadata": {},
   "outputs": [
    {
     "name": "stdout",
     "output_type": "stream",
     "text": [
      "('list1', 1, 3, 4)\n"
     ]
    }
   ],
   "source": [
    "print(list1)"
   ]
  },
  {
   "cell_type": "code",
   "execution_count": 1,
   "id": "a8e4f032-3934-4c38-8ebe-aad495f5fc84",
   "metadata": {},
   "outputs": [
    {
     "name": "stdout",
     "output_type": "stream",
     "text": [
      "10\n"
     ]
    }
   ],
   "source": [
    "a=10\n",
    "print (a)"
   ]
  },
  {
   "cell_type": "code",
   "execution_count": null,
   "id": "fc4a3115-bb52-4d21-9725-261c6062a704",
   "metadata": {},
   "outputs": [],
   "source": []
  }
 ],
 "metadata": {
  "kernelspec": {
   "display_name": "Python 3 (ipykernel)",
   "language": "python",
   "name": "python3"
  },
  "language_info": {
   "codemirror_mode": {
    "name": "ipython",
    "version": 3
   },
   "file_extension": ".py",
   "mimetype": "text/x-python",
   "name": "python",
   "nbconvert_exporter": "python",
   "pygments_lexer": "ipython3",
   "version": "3.10.9"
  }
 },
 "nbformat": 4,
 "nbformat_minor": 5
}
